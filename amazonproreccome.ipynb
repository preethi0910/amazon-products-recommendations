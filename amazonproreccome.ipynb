{
 "cells": [
  {
   "cell_type": "markdown",
   "id": "654060f0-a641-4df9-9d88-6bfe8d9d269b",
   "metadata": {},
   "source": [
    "import re\n",
    "import pandas as pd\n",
    "import numpy as np\n",
    "import plotly.express as px\n",
    "import matplotlib.pyplot as plt\n",
    "import seaborn as sns\n",
    "from scipy.sparse import hstack\n",
    "from sklearn.preprocessing import StandardScaler\n",
    "from scipy import stats\n",
    "from sklearn.feature_extraction.text import TfidfVectorizer, CountVectorizer\n",
    "from sklearn.metrics.pairwise import linear_kernel, cosine_similarity\n",
    "sns.set(font_scale=1.4)"
   ]
  },
  {
   "cell_type": "code",
   "execution_count": null,
   "id": "071282f2-3d5c-4748-93d0-e8305b3b99f4",
   "metadata": {},
   "outputs": [],
   "source": [
    "!pip install plotly.express"
   ]
  },
  {
   "cell_type": "code",
   "execution_count": null,
   "id": "8ea868e8-6b2a-4d2e-b4ae-4b589a02581a",
   "metadata": {},
   "outputs": [],
   "source": [
    "data = pd.read_csv(r'C:\\python projects\\amazonproductrecom\\BigBasket Products.csv').drop('index', axis=1)"
   ]
  },
  {
   "cell_type": "code",
   "execution_count": null,
   "id": "b9013113-1363-4158-947d-d951532c6ed0",
   "metadata": {},
   "outputs": [],
   "source": [
    "data.head(5)"
   ]
  },
  {
   "cell_type": "code",
   "execution_count": null,
   "id": "2a1b85e6-83a6-4db3-aab0-126161d5a043",
   "metadata": {},
   "outputs": [],
   "source": [
    "data.shape"
   ]
  },
  {
   "cell_type": "code",
   "execution_count": null,
   "id": "62295f5d-61ca-484d-8897-a1cd48704c26",
   "metadata": {},
   "outputs": [],
   "source": [
    "info = pd.DataFrame(index=data.columns, columns=['Dtype', 'Unique Numbers'])\n",
    "info['Dtype'] = data.dtypes\n",
    "info['Null values'] = data.isna().sum()\n",
    "info['Unique Numbers'] = data.nunique()\n",
    "info['Description'] = ['Products bought', 'Products categories', 'Products sub-categories', 'Products brand', \n",
    "                       'The price paid', 'The overall price', 'Products type', 'Users rating', 'Description']\n",
    "info"
   ]
  },
  {
   "cell_type": "code",
   "execution_count": null,
   "id": "23d4f328-f1f2-4059-b20e-ea285d667c8a",
   "metadata": {},
   "outputs": [],
   "source": [
    "info['Dtype'].value_counts()"
   ]
  },
  {
   "cell_type": "code",
   "execution_count": null,
   "id": "496407e5-36bc-40fe-a121-316a99825e14",
   "metadata": {},
   "outputs": [],
   "source": [
    "print('Duplicated Values:', data.duplicated().sum())"
   ]
  },
  {
   "cell_type": "code",
   "execution_count": null,
   "id": "481e1f78-8834-4ee8-8eef-665c9013caf6",
   "metadata": {},
   "outputs": [],
   "source": [
    "data.drop('description', axis=1, inplace=True)"
   ]
  },
  {
   "cell_type": "code",
   "execution_count": null,
   "id": "f3b2dfb4-40da-4291-9d07-e562473f851d",
   "metadata": {},
   "outputs": [],
   "source": [
    "data.isna().sum()"
   ]
  },
  {
   "cell_type": "code",
   "execution_count": null,
   "id": "b28385ec-9adc-4607-b7f3-276d4b3eabb8",
   "metadata": {},
   "outputs": [],
   "source": [
    "data.describe().T.loc['rating']"
   ]
  },
  {
   "cell_type": "code",
   "execution_count": null,
   "id": "7883aaf4-1d18-46e1-9398-5f81385e1624",
   "metadata": {},
   "outputs": [],
   "source": [
    "import matplotlib.pyplot as plt\n",
    "data['rating'].hist()\n",
    "plt.title('Rating Distribution')\n",
    "plt.show()"
   ]
  },
  {
   "cell_type": "code",
   "execution_count": null,
   "id": "afd90c01-80e4-466f-833c-7f7db1f56ae6",
   "metadata": {},
   "outputs": [],
   "source": [
    "median_value = data['rating'].median()\n",
    "data['rating'] = data['rating'].fillna(median_value)"
   ]
  },
  {
   "cell_type": "code",
   "execution_count": null,
   "id": "641e53b5-d0e2-4ba5-9200-02c2da1d5d1b",
   "metadata": {},
   "outputs": [],
   "source": [
    "data.dropna(inplace=True)\n",
    "print('Null Values:', data.isna().sum().sum())"
   ]
  },
  {
   "cell_type": "code",
   "execution_count": null,
   "id": "5c9adf74-edd2-455f-9a18-cac07d6763e4",
   "metadata": {},
   "outputs": [],
   "source": [
    "data.head()"
   ]
  },
  {
   "cell_type": "code",
   "execution_count": null,
   "id": "4bf1fee7-c075-45b4-9d44-1bb73ec94d10",
   "metadata": {},
   "outputs": [],
   "source": [
    "data.shape"
   ]
  },
  {
   "cell_type": "code",
   "execution_count": null,
   "id": "82a74b10-3452-495e-aefe-f9fc56dca3ab",
   "metadata": {},
   "outputs": [],
   "source": [
    "data['discount'] = (data['market_price'] - data['sale_price']) / data['market_price'] * 100\n",
    "data.head(10)"
   ]
  },
  {
   "cell_type": "code",
   "execution_count": null,
   "id": "8a70cdcf-f529-4ef0-99aa-377937165ee2",
   "metadata": {},
   "outputs": [],
   "source": [
    "data.dtypes.value_counts()"
   ]
  },
  {
   "cell_type": "code",
   "execution_count": null,
   "id": "0757ff2c-f2a2-4eb6-ad00-16c67af3245f",
   "metadata": {},
   "outputs": [],
   "source": [
    "data.describe().T"
   ]
  },
  {
   "cell_type": "code",
   "execution_count": null,
   "id": "e174b88c-6b0b-4f7a-852b-97ee9e4a8219",
   "metadata": {},
   "outputs": [],
   "source": [
    "data[['rating', 'discount']].hist(bins=15)\n",
    "plt.show()"
   ]
  },
  {
   "cell_type": "code",
   "execution_count": null,
   "id": "c30e1bcd-ddf5-4146-9068-0615ea44f39f",
   "metadata": {},
   "outputs": [],
   "source": [
    "data[['sale_price', 'market_price']].hist(bins=15)\n",
    "plt.show()"
   ]
  },
  {
   "cell_type": "code",
   "execution_count": null,
   "id": "bb2adaeb-3af9-41f0-9b0a-f0fa2bfddde6",
   "metadata": {},
   "outputs": [],
   "source": [
    "data[['sale_price', 'market_price']].apply(np.log1p).hist()\n",
    "plt.show()"
   ]
  },
  {
   "cell_type": "code",
   "execution_count": null,
   "id": "98c78314-7a79-41c0-a54a-e0286cbf0fd4",
   "metadata": {},
   "outputs": [],
   "source": [
    "def top7(col):\n",
    "    df = data_frame=data[col].value_counts()[:7]\n",
    "    s = df.sum()\n",
    "    fig = px.bar(df / s * 100, title='Top 7 Selling ' + col.title() + 's', width=600, height=500)\n",
    "    fig.update_layout(xaxis_title=col.title(), yaxis_title='Counts')\n",
    "    fig.update_traces(texttemplate='%{y:.1f}%', textposition='outside')\n",
    "    fig.show()"
   ]
  },
  {
   "cell_type": "code",
   "execution_count": null,
   "id": "19db6b26-0626-40db-bebc-bd9c1bb36252",
   "metadata": {},
   "outputs": [],
   "source": [
    "import plotly.express as px\n",
    "top7('product')"
   ]
  },
  {
   "cell_type": "code",
   "execution_count": null,
   "id": "8d59db91-b4c7-4b34-9451-975225ac7539",
   "metadata": {},
   "outputs": [],
   "source": [
    "import plotly.express as px\n",
    "top7('category')"
   ]
  },
  {
   "cell_type": "code",
   "execution_count": null,
   "id": "bdc7bef5-ffb6-43a7-82f0-4589d820a8cc",
   "metadata": {},
   "outputs": [],
   "source": [
    "import plotly.express as px\n",
    "top7('sub_category')"
   ]
  },
  {
   "cell_type": "code",
   "execution_count": null,
   "id": "fc06a4ed-fd03-46d2-a830-633056a9b184",
   "metadata": {},
   "outputs": [],
   "source": [
    "import plotly.express as px\n",
    "top7('brand')"
   ]
  },
  {
   "cell_type": "code",
   "execution_count": null,
   "id": "4e45e60d-7370-4ccf-a04f-0e94343c7e43",
   "metadata": {},
   "outputs": [],
   "source": [
    "top7('type')"
   ]
  },
  {
   "cell_type": "code",
   "execution_count": null,
   "id": "4f035070-a8ba-465b-9e35-5822e657b448",
   "metadata": {},
   "outputs": [],
   "source": [
    "def category_by_target(category, target):\n",
    "    top_products = data.groupby(category)[target].mean().sort_values(ascending=False).head(7)\n",
    "    plt.figure(figsize=(10, 6))\n",
    "    top_products.plot(kind='bar', color='skyblue')\n",
    "    plt.title('Top 7 Selling ' + category.title().replace('_', ' ') + 's' +\n",
    "              ' by Mean ' + target.title().replace('_', ' '))\n",
    "    plt.xlabel(category.title().replace('_', ' '))\n",
    "    plt.ylabel('Mean ' + target.title().replace('_', ' '))\n",
    "    plt.xticks(rotation=45, ha='right')\n",
    "    plt.show()"
   ]
  },
  {
   "cell_type": "code",
   "execution_count": null,
   "id": "7fc6b304-d138-418e-ade4-57600682b6e3",
   "metadata": {},
   "outputs": [],
   "source": [
    "category_by_target('product', 'sale_price')"
   ]
  },
  {
   "cell_type": "code",
   "execution_count": null,
   "id": "370496ed-ee2f-4b7b-aba0-833448d4aed5",
   "metadata": {},
   "outputs": [],
   "source": [
    "category_by_target('category', 'sale_price')"
   ]
  },
  {
   "cell_type": "code",
   "execution_count": null,
   "id": "5dc8b1e1-8d6d-4cb2-9b0c-ce3361cc56d2",
   "metadata": {},
   "outputs": [],
   "source": [
    "category_by_target('sub_category', 'sale_price')"
   ]
  },
  {
   "cell_type": "code",
   "execution_count": null,
   "id": "6436c7fc-49f3-41af-bb73-bd6e2d74ae66",
   "metadata": {},
   "outputs": [],
   "source": [
    "category_by_target('brand', 'sale_price')"
   ]
  },
  {
   "cell_type": "code",
   "execution_count": null,
   "id": "98de979c-88c1-402c-84ac-4e6a945f5eb1",
   "metadata": {},
   "outputs": [],
   "source": [
    "category_by_target('type', 'sale_price')"
   ]
  },
  {
   "cell_type": "code",
   "execution_count": null,
   "id": "e19aa8bc-94de-4820-85a9-6a5ea8a760d8",
   "metadata": {},
   "outputs": [],
   "source": [
    "data['dis_value'] = data['market_price'] - data['sale_price']"
   ]
  },
  {
   "cell_type": "code",
   "execution_count": null,
   "id": "30968ca1-62a6-4321-8213-f9e987258ce3",
   "metadata": {},
   "outputs": [],
   "source": [
    "category_by_target('product', 'dis_value')"
   ]
  },
  {
   "cell_type": "code",
   "execution_count": null,
   "id": "428351f7-851b-4ff0-b5e2-608faec14059",
   "metadata": {},
   "outputs": [],
   "source": [
    "category_by_target('category', 'dis_value')"
   ]
  },
  {
   "cell_type": "code",
   "execution_count": null,
   "id": "c552546d-9af2-41fa-b463-dc8cdbd39dca",
   "metadata": {},
   "outputs": [],
   "source": [
    "category_by_target('sub_category', 'dis_value')"
   ]
  },
  {
   "cell_type": "code",
   "execution_count": null,
   "id": "f8aab8c4-b94f-4263-9dbf-0d0df6805c9a",
   "metadata": {},
   "outputs": [],
   "source": [
    "category_by_target('type', 'dis_value')"
   ]
  },
  {
   "cell_type": "code",
   "execution_count": null,
   "id": "2295e6fe-4e7c-48da-8333-597145e512f6",
   "metadata": {},
   "outputs": [],
   "source": [
    "category_by_target('brand', 'dis_value')"
   ]
  },
  {
   "cell_type": "code",
   "execution_count": null,
   "id": "6d11c226-4b8a-44ee-bfc8-7f0c2319e667",
   "metadata": {},
   "outputs": [],
   "source": [
    "data.drop('dis_value', axis=1, inplace=True)"
   ]
  },
  {
   "cell_type": "code",
   "execution_count": null,
   "id": "672c5d06-391e-4af7-9287-4355fb0c9b64",
   "metadata": {},
   "outputs": [],
   "source": [
    "data['popularity_score'] = data['rating'] * (1 / data['sale_price'])"
   ]
  },
  {
   "cell_type": "code",
   "execution_count": null,
   "id": "60213570-5df9-465f-8f37-ecacdb80f0e8",
   "metadata": {},
   "outputs": [],
   "source": [
    "category_by_target('product', 'popularity_score')"
   ]
  },
  {
   "cell_type": "code",
   "execution_count": null,
   "id": "2cda0108-524d-4a8e-be61-72f261260c48",
   "metadata": {},
   "outputs": [],
   "source": [
    "category_by_target('category', 'popularity_score')"
   ]
  },
  {
   "cell_type": "code",
   "execution_count": null,
   "id": "d2703f08-078e-4d89-8d52-e873873a5dcf",
   "metadata": {},
   "outputs": [],
   "source": [
    "category_by_target('sub_category', 'popularity_score')"
   ]
  },
  {
   "cell_type": "code",
   "execution_count": null,
   "id": "3a08846f-4386-4893-9e84-dc505f29cc6d",
   "metadata": {},
   "outputs": [],
   "source": [
    "category_by_target('brand', 'popularity_score')"
   ]
  },
  {
   "cell_type": "code",
   "execution_count": null,
   "id": "2951fade-d822-4bfa-9501-bd486a67a7b2",
   "metadata": {},
   "outputs": [],
   "source": [
    "category_by_target('type', 'popularity_score')"
   ]
  },
  {
   "cell_type": "code",
   "execution_count": null,
   "id": "25b19d45-9fa9-4c24-9534-50438b74ef4e",
   "metadata": {
    "scrolled": true
   },
   "outputs": [],
   "source": [
    "correlation_matrix = data.select_dtypes(include=[np.number]).corr()\n",
    "\n",
    "plt.figure(figsize=(8, 6))\n",
    "sns.heatmap(correlation_matrix, annot=True, cmap='coolwarm', fmt=\".2f\", linewidths=0.5)\n",
    "plt.title('Correlation Matrix')\n",
    "plt.xticks(rotation=45, ha='right') \n",
    "plt.yticks(rotation=45, ha='right') \n",
    "plt.show()\n"
   ]
  },
  {
   "cell_type": "code",
   "execution_count": null,
   "id": "d070c7cf-3f70-441d-a0d3-33b32e247b17",
   "metadata": {},
   "outputs": [],
   "source": [
    "def cramers_v(x, y):\n",
    "    confusion_matrix = pd.crosstab(x, y)\n",
    "    chi2, _, _, _ = stats.chi2_contingency(confusion_matrix)\n",
    "    n = confusion_matrix.sum().sum()\n",
    "    phi2 = chi2 / n\n",
    "    r, k = confusion_matrix.shape\n",
    "    phi2corr = max(0, phi2 - ((k - 1) * (r - 1)) / (n - 1))\n",
    "    rcorr = r - ((r - 1) ** 2) / (n - 1)\n",
    "    kcorr = k - ((k - 1) ** 2) / (n - 1)\n",
    "    return np.sqrt(phi2corr / min((kcorr - 1), (rcorr - 1)))"
   ]
  },
  {
   "cell_type": "code",
   "execution_count": null,
   "id": "fde15b4f-30f8-43d6-a024-0c21ab7acbdb",
   "metadata": {},
   "outputs": [],
   "source": [
    "numerical_features = data.select_dtypes(include=['float64', 'int64', 'int32'])\n",
    "categorical_features = data.select_dtypes(include=['object'])"
   ]
  },
  {
   "cell_type": "code",
   "execution_count": null,
   "id": "bf1e11bd-9054-456a-9eb7-63df0a85659e",
   "metadata": {},
   "outputs": [],
   "source": [
    "num_features = len(categorical_features.columns)\n",
    "corr_matrix = pd.DataFrame(np.ones((num_features, num_features)), columns=categorical_features.columns,\n",
    "                           index=categorical_features.columns)"
   ]
  },
  {
   "cell_type": "code",
   "execution_count": null,
   "id": "9a89ae86-ad6b-47ee-a0f7-67316c19da5e",
   "metadata": {},
   "outputs": [],
   "source": [
    "for i in range(num_features):\n",
    "    for j in range(i + 1, num_features):\n",
    "        corr_matrix.iloc[i, j] = cramers_v(categorical_features.iloc[:, i], categorical_features.iloc[:, j])\n",
    "        corr_matrix.iloc[j, i] = corr_matrix.iloc[i, j]"
   ]
  },
  {
   "cell_type": "code",
   "execution_count": null,
   "id": "f3f58f77-7938-466b-afbe-bf6181e6d738",
   "metadata": {},
   "outputs": [],
   "source": [
    "plt.figure(figsize=(8, 6))\n",
    "sns.heatmap(corr_matrix, annot=True, cmap='coolwarm', fmt=\".2f\", linewidths=0.5)\n",
    "plt.title('Association Matrix')\n",
    "plt.xticks(rotation=45, ha='right') \n",
    "plt.yticks(rotation=45, ha='right') \n",
    "plt.show()"
   ]
  },
  {
   "cell_type": "code",
   "execution_count": null,
   "id": "935cf7f6-8948-4004-9714-8c78401b5f26",
   "metadata": {},
   "outputs": [],
   "source": [
    "data.head(10)"
   ]
  },
  {
   "cell_type": "code",
   "execution_count": null,
   "id": "e102bfb5-acce-4d6e-9838-336b4a5cf5b4",
   "metadata": {},
   "outputs": [],
   "source": [
    "data.dtypes.value_counts()"
   ]
  },
  {
   "cell_type": "code",
   "execution_count": null,
   "id": "ed116139-91f5-41fb-a315-481f437bfacd",
   "metadata": {},
   "outputs": [],
   "source": [
    "data['tags'] = data['product'] + ' ' + data['category'] + ' ' + \\\n",
    "               data['sub_category'] + ' ' + data['brand'] + ' ' + data['type']"
   ]
  },
  {
   "cell_type": "code",
   "execution_count": null,
   "id": "516b1715-02aa-4b79-95ce-87baf894b607",
   "metadata": {},
   "outputs": [],
   "source": [
    "df = data.copy()"
   ]
  },
  {
   "cell_type": "code",
   "execution_count": null,
   "id": "4721e730-d62c-4640-9dff-1988f0f20a14",
   "metadata": {},
   "outputs": [],
   "source": [
    "df.drop(['product', 'category', 'sub_category', 'brand', 'type'], axis=1, inplace=True)"
   ]
  },
  {
   "cell_type": "code",
   "execution_count": null,
   "id": "a0c43271-17d3-43e7-9e6f-9a7ea509b232",
   "metadata": {},
   "outputs": [],
   "source": [
    "df.head(10)"
   ]
  },
  {
   "cell_type": "code",
   "execution_count": null,
   "id": "cac40602-3f31-4a49-b5ef-793a7ce320c2",
   "metadata": {},
   "outputs": [],
   "source": [
    "tfidf = TfidfVectorizer(stop_words='english')\n",
    "tfidf_matrix = tfidf.fit_transform(df['tags'])\n",
    "tfidf_matrix.shape"
   ]
  },
  {
   "cell_type": "code",
   "execution_count": null,
   "id": "a09d047a-4142-45c8-bcc1-7c2867f50a40",
   "metadata": {},
   "outputs": [],
   "source": [
    "scaler = StandardScaler()\n",
    "scaled_features = scaler.fit_transform(df.drop(['tags'], axis=1))\n",
    "scaled_features.shape"
   ]
  },
  {
   "cell_type": "code",
   "execution_count": null,
   "id": "021dfc1c-7225-4943-b79d-7e698490927a",
   "metadata": {},
   "outputs": [],
   "source": [
    "dense_tfidf_matrix = tfidf_matrix.toarray()\n",
    "combined_data = np.concatenate((dense_tfidf_matrix, scaled_features), axis=1)\n",
    "combined_data.shape"
   ]
  },
  {
   "cell_type": "code",
   "execution_count": null,
   "id": "1b7a0faa-f7ef-436e-acd0-b58ee40240c5",
   "metadata": {},
   "outputs": [],
   "source": [
    "cosine_sim = cosine_similarity(combined_data)"
   ]
  },
  {
   "cell_type": "code",
   "execution_count": null,
   "id": "26bf0d28-21f2-4ec9-9aea-93f91dd3d067",
   "metadata": {},
   "outputs": [],
   "source": [
    "cosine_sim.shape"
   ]
  },
  {
   "cell_type": "code",
   "execution_count": null,
   "id": "1e9d90f8-57fa-4513-81a6-ecbcf5674392",
   "metadata": {},
   "outputs": [],
   "source": [
    "indices = pd.Series(data.index, index=data['product']).drop_duplicates()"
   ]
  },
  {
   "cell_type": "code",
   "execution_count": null,
   "id": "4a46896a-08c5-4b69-b7f4-f0b16c42a375",
   "metadata": {},
   "outputs": [],
   "source": [
    "def get_recommendations(name):\n",
    "    idx = indices[name]\n",
    "    sim_scores = list(enumerate(cosine_sim[idx]))\n",
    "    sim_scores = sorted(sim_scores, key=lambda x: x[1], reverse=True)\n",
    "    sim_scores = sim_scores[1:11]\n",
    "    product_indices = [i[0] for i in sim_scores]\n",
    "    return data['product'].iloc[product_indices]\n",
    "\n",
    "\n",
    "def recommend(name):\n",
    "    for i in get_recommendations(name):\n",
    "        print(i)"
   ]
  },
  {
   "cell_type": "code",
   "execution_count": null,
   "id": "36ec6690-564d-46bc-b3ad-4518763c9a8f",
   "metadata": {},
   "outputs": [],
   "source": [
    "item = 'Foochka'\n",
    "recommend(item)"
   ]
  },
  {
   "cell_type": "code",
   "execution_count": null,
   "id": "b0008ccf-ce73-4547-9f52-ae489f4aab0b",
   "metadata": {},
   "outputs": [],
   "source": [
    "def get_recommendations(name):\n",
    "    idx = []\n",
    "    for m in name:\n",
    "        if type(indices[m]) == np.int64:\n",
    "            idx.append(indices[m])\n",
    "        else:\n",
    "            idx.append(indices[m][0])\n",
    "    lst = []\n",
    "    counter = 0\n",
    "    for i in idx:\n",
    "        sim_scores = list(enumerate(cosine_sim[i]))\n",
    "        sim_scores = sorted(sim_scores, key=lambda x: x[1], reverse=True)\n",
    "        sim_scores = sim_scores[1:11]\n",
    "        for j in sim_scores:\n",
    "            if j[0] not in idx:\n",
    "                lst.append(j)\n",
    "    # sort\n",
    "    lst.sort(key=lambda x: x[1], reverse=True)\n",
    "    l = [i[0] for i in lst]\n",
    "    product_indices = l\n",
    "    return data['product'].iloc[product_indices][0:10]\n",
    "\n",
    "\n",
    "def recommend(name):\n",
    "    for i in get_recommendations(name):\n",
    "        print(i)"
   ]
  },
  {
   "cell_type": "code",
   "execution_count": null,
   "id": "579ba164-9a6d-441f-a8ab-9c4d59918b9d",
   "metadata": {},
   "outputs": [],
   "source": [
    "recommend(['Foochka'])"
   ]
  },
  {
   "cell_type": "code",
   "execution_count": null,
   "id": "0a776f92-4532-4e04-8e3e-38e0b1300626",
   "metadata": {},
   "outputs": [],
   "source": [
    "recommend(['Foochka', 'Papad - Sago'])"
   ]
  },
  {
   "cell_type": "code",
   "execution_count": null,
   "id": "8f0191ff-f56b-465b-816a-1230df105216",
   "metadata": {},
   "outputs": [],
   "source": [
    "recommend(['Foochka', 'Papad - Sago', 'Papad - Fryum'])"
   ]
  },
  {
   "cell_type": "code",
   "execution_count": null,
   "id": "3372f366-a9df-47c3-a762-e8226ca0ccb0",
   "metadata": {},
   "outputs": [],
   "source": [
    "def get_recommendations(name, rate):\n",
    "    idx = []\n",
    "    for m in name:\n",
    "        if type(indices[m]) == np.int64:\n",
    "            idx.append(indices[m])\n",
    "        else:\n",
    "            idx.append(indices[m][0])\n",
    "    lst = []\n",
    "    counter = 0\n",
    "    for i in idx:\n",
    "        sim_scores = list(enumerate(cosine_sim[i]))\n",
    "        sim_scores = sorted(sim_scores, key=lambda x: x[1], reverse=True)\n",
    "        sim_scores = sim_scores[1:11]\n",
    "        \n",
    "        # rating out of 5\n",
    "        l = [(ss[0], ss[1] * rate[counter] / 5) for ss in sim_scores]\n",
    "        counter += 1\n",
    "        sim_scores = l\n",
    "        \n",
    "        for j in sim_scores:\n",
    "            if j[0] not in idx:\n",
    "                lst.append(j)\n",
    "    # sort\n",
    "    lst.sort(key=lambda x: x[1], reverse=True)\n",
    "    l = [i[0] for i in lst]\n",
    "    product_indices = l\n",
    "    return data['product'].iloc[product_indices][0:10]\n",
    "\n",
    "\n",
    "def recommend(name, rate):\n",
    "    for i in get_recommendations(name, rate):\n",
    "        print(i)"
   ]
  },
  {
   "cell_type": "code",
   "execution_count": null,
   "id": "2afa3230-d02d-49e0-a9a2-d470bfb74812",
   "metadata": {},
   "outputs": [],
   "source": [
    "item1 = 'Ashwagandha Tablets'\n",
    "item2 = 'Foochka'"
   ]
  },
  {
   "cell_type": "code",
   "execution_count": null,
   "id": "aab2fc74-49c8-40ca-a064-84df249888a3",
   "metadata": {},
   "outputs": [],
   "source": [
    "recommend([item1], [4.5])"
   ]
  },
  {
   "cell_type": "code",
   "execution_count": null,
   "id": "6022d467-c708-4250-b574-907e67c5d7bc",
   "metadata": {},
   "outputs": [],
   "source": [
    "recommend([item2], [4.5])"
   ]
  },
  {
   "cell_type": "code",
   "execution_count": null,
   "id": "134f8fdf-aa9f-4f3e-b09a-6a9a8c59b56f",
   "metadata": {},
   "outputs": [],
   "source": [
    "recommend([item1, item2], [5, 5])"
   ]
  },
  {
   "cell_type": "code",
   "execution_count": null,
   "id": "309b4039-936f-431c-b947-0952fac46ff5",
   "metadata": {},
   "outputs": [],
   "source": [
    "recommend([item1, item2], [1, 5])"
   ]
  },
  {
   "cell_type": "code",
   "execution_count": null,
   "id": "43bf313f-3910-4f4e-9e02-6137caba1727",
   "metadata": {},
   "outputs": [],
   "source": [
    "recommend([item2, item1], [1, 5])"
   ]
  },
  {
   "cell_type": "code",
   "execution_count": null,
   "id": "376f8ae6-a9ac-42d2-9269-267344442050",
   "metadata": {},
   "outputs": [],
   "source": [
    "recommend([item1, item2], [2, 3])"
   ]
  },
  {
   "cell_type": "markdown",
   "id": "cd66c7f4-1c96-46bb-b50e-97e0c6421e74",
   "metadata": {},
   "source": [
    "clarification :- https://github.com/Mehrab-Kalantari/Amazon-Products-Recommender-System/blob/main/Amazon%20Products%20Recommender%20System.ipynb\n",
    "                 https://chatgpt.com/share/67adb031-1b18-8003-b3d7-59de9559208e+\n",
    "               "
   ]
  },
  {
   "cell_type": "code",
   "execution_count": null,
   "id": "25ce1a0f-6a2c-49d4-a2ab-0d7e646cc954",
   "metadata": {},
   "outputs": [],
   "source": []
  }
 ],
 "metadata": {
  "kernelspec": {
   "display_name": "Python 3 (ipykernel)",
   "language": "python",
   "name": "python3"
  },
  "language_info": {
   "codemirror_mode": {
    "name": "ipython",
    "version": 3
   },
   "file_extension": ".py",
   "mimetype": "text/x-python",
   "name": "python",
   "nbconvert_exporter": "python",
   "pygments_lexer": "ipython3",
   "version": "3.12.6"
  }
 },
 "nbformat": 4,
 "nbformat_minor": 5
}
